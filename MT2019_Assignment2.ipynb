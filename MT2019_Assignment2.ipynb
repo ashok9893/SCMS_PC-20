{
 "cells": [
  {
   "cell_type": "code",
   "execution_count": 2,
   "id": "709509d2",
   "metadata": {},
   "outputs": [
    {
     "name": "stdout",
     "output_type": "stream",
     "text": [
      "area of one of the biggest face for length 30 rectangular cuboid is = 450 square centimeter \n",
      "\n",
      "volume of one of the biggest face for length 30 rectangular cuboid is = 9000 cubic centimeter \n",
      "\n",
      "area of one of the biggest face for length 40 rectangular cuboid is = 600 square centimeter \n",
      "\n",
      "volume of one of the biggest face for length 40 rectangular cuboid is = 12000 cubic centimeter \n",
      "\n",
      "area of one of the biggest face for length 50 rectangular cuboid is = 750 square centimeter \n",
      "\n",
      "volume of one of the biggest face for length 50 rectangular cuboid is = 15000 cubic centimeter \n",
      "\n"
     ]
    }
   ],
   "source": [
    "# program to calculate the area and volume of a rectangular cuboid for given dimensions.\n",
    "# Area of rectangle = length * height \n",
    "# volume of cuboid = lenght * height * breadth\n",
    "\n",
    "\n",
    "\n",
    "l = [30,40,50] # Length \n",
    "b = 20         # Breadth\n",
    "h = 15         # Height\n",
    "\n",
    "for i in l:\n",
    "    area = i * h\n",
    "    volume = i * h * b\n",
    "    \n",
    "    print(f\"area of one of the biggest face for length {i} rectangular cuboid is = {area} square centimeter\",\"\\n\")\n",
    "    print(f\"volume of one of the biggest face for length {i} rectangular cuboid is = {volume} cubic centimeter\",\"\\n\")\n",
    "\n"
   ]
  },
  {
   "cell_type": "code",
   "execution_count": null,
   "id": "94603333",
   "metadata": {},
   "outputs": [],
   "source": []
  }
 ],
 "metadata": {
  "kernelspec": {
   "display_name": "Python 3",
   "language": "python",
   "name": "python3"
  },
  "language_info": {
   "codemirror_mode": {
    "name": "ipython",
    "version": 3
   },
   "file_extension": ".py",
   "mimetype": "text/x-python",
   "name": "python",
   "nbconvert_exporter": "python",
   "pygments_lexer": "ipython3",
   "version": "3.8.8"
  }
 },
 "nbformat": 4,
 "nbformat_minor": 5
}
