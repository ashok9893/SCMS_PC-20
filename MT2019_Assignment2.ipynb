{
 "cells": [
  {
   "cell_type": "code",
   "execution_count": 1,
   "id": "8d2dead4",
   "metadata": {},
   "outputs": [
    {
     "name": "stdout",
     "output_type": "stream",
     "text": [
      "area of one of the biggest faces rectangular cuboid is : 450\n",
      "area of one of the biggest faces rectangular cuboid is : 600\n",
      "area of one of the biggest faces rectangular cuboid is : 750\n",
      "Area of a rectangular cuboid :  750\n",
      "volume of a rectangular cuboid 9000\n",
      "volume of a rectangular cuboid 12000\n",
      "volume of a rectangular cuboid 15000\n",
      "volume of a rectangular cuboid :  15000\n"
     ]
    }
   ],
   "source": [
    "# program to calculate the area and volume of a rectangular cuboid for given dimensions.\n",
    "\n",
    "#l = [30,40,50] --- Length \n",
    "#b = 20         --- Breadth\n",
    "#h = 15         --- Height\n",
    "\n",
    "def area(l,h):\n",
    "    for i in l:\n",
    "        area = i * h # area = Length * Height\n",
    "        print(\"area of one of the biggest faces rectangular cuboid is :\", area)\n",
    "    return area\n",
    "\n",
    "def volume(l,b,h):\n",
    "    for i in l:\n",
    "        volume = i * b * h # area = Length * Height\n",
    "        print(\"volume of a rectangular cuboid\", volume)\n",
    "    return  volume\n",
    "\n",
    "\n",
    "print(\"Area of a rectangular cuboid : \",area([30,40,50],15))\n",
    "print(\"volume of a rectangular cuboid : \",volume([30,40,50],20,15))"
   ]
  },
  {
   "cell_type": "code",
   "execution_count": null,
   "id": "709509d2",
   "metadata": {},
   "outputs": [],
   "source": []
  }
 ],
 "metadata": {
  "kernelspec": {
   "display_name": "Python 3",
   "language": "python",
   "name": "python3"
  },
  "language_info": {
   "codemirror_mode": {
    "name": "ipython",
    "version": 3
   },
   "file_extension": ".py",
   "mimetype": "text/x-python",
   "name": "python",
   "nbconvert_exporter": "python",
   "pygments_lexer": "ipython3",
   "version": "3.8.8"
  }
 },
 "nbformat": 4,
 "nbformat_minor": 5
}
