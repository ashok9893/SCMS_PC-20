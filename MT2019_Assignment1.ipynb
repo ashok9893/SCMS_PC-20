{
 "cells": [
  {
   "cell_type": "code",
   "execution_count": 1,
   "id": "50e6e1d3",
   "metadata": {},
   "outputs": [
    {
     "name": "stdout",
     "output_type": "stream",
     "text": [
      "area of one of the biggest faces rectangular cuboid : 450\n",
      "volume of a rectangular cuboid :  9000\n"
     ]
    }
   ],
   "source": [
    "# program to calculate the area and volume of a rectangular cuboid for given dimensions.\n",
    "\n",
    "l = 30  #Length \n",
    "b = 20  #Breadth\n",
    "h = 15  #Height\n",
    "\n",
    "area = l * h    # area = Length * Height\n",
    "\n",
    "print(\"area of one of the biggest faces rectangular cuboid :\", area)\n",
    "\n",
    "volume = l * b * h\n",
    "\n",
    "print(\"volume of a rectangular cuboid : \",volume)\n"
   ]
  }
 ],
 "metadata": {
  "kernelspec": {
   "display_name": "Python 3",
   "language": "python",
   "name": "python3"
  },
  "language_info": {
   "codemirror_mode": {
    "name": "ipython",
    "version": 3
   },
   "file_extension": ".py",
   "mimetype": "text/x-python",
   "name": "python",
   "nbconvert_exporter": "python",
   "pygments_lexer": "ipython3",
   "version": "3.8.8"
  }
 },
 "nbformat": 4,
 "nbformat_minor": 5
}
